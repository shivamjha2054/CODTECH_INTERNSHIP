{
 "cells": [
  {
   "cell_type": "code",
   "execution_count": 3,
   "id": "a50a6bf7",
   "metadata": {},
   "outputs": [
    {
     "name": "stdout",
     "output_type": "stream",
     "text": [
      "RMSE: 2.7058\n",
      "\n",
      "Top 5 recommendations for user 1:\n",
      "Book ID: 115\n",
      "Book ID: 476\n",
      "Book ID: 570\n",
      "Book ID: 323\n",
      "Book ID: 94\n"
     ]
    }
   ],
   "source": [
    "# Install required packages\n",
    "!pip install pandas numpy scikit-learn --quiet\n",
    "\n",
    "import pandas as pd\n",
    "import numpy as np\n",
    "from sklearn.decomposition import TruncatedSVD\n",
    "from sklearn.metrics import mean_squared_error\n",
    "from math import sqrt\n",
    "\n",
    "# -------------------------\n",
    "# Load dataset (Book ratings)\n",
    "# -------------------------\n",
    "df = pd.read_csv(\n",
    "    'https://raw.githubusercontent.com/zygmuntz/goodbooks-10k/master/ratings.csv'\n",
    ")\n",
    "\n",
    "# For speed, use only first 10k ratings\n",
    "df = df.head(10000)\n",
    "\n",
    "# Create user-item rating matrix\n",
    "rating_matrix = df.pivot_table(index='user_id', columns='book_id', values='rating').fillna(0)\n",
    "\n",
    "# -------------------------\n",
    "# Apply Matrix Factorization (SVD)\n",
    "# -------------------------\n",
    "svd = TruncatedSVD(n_components=20, random_state=42)\n",
    "matrix = svd.fit_transform(rating_matrix)\n",
    "\n",
    "# Reconstruct predicted ratings\n",
    "pred_ratings = np.dot(matrix, svd.components_)\n",
    "\n",
    "# -------------------------\n",
    "# Evaluate with RMSE\n",
    "# -------------------------\n",
    "# Convert both to numpy arrays\n",
    "true_values = rating_matrix.values\n",
    "mask = true_values > 0\n",
    "\n",
    "rmse = sqrt(mean_squared_error(true_values[mask], pred_ratings[mask]))\n",
    "print(f\"RMSE: {rmse:.4f}\")\n",
    "\n",
    "# -------------------------\n",
    "# Recommend top 5 books for a given user\n",
    "# -------------------------\n",
    "user_id = 1  # Change as needed\n",
    "user_index = rating_matrix.index.get_loc(user_id)\n",
    "sorted_indices = np.argsort(-pred_ratings[user_index])\n",
    "top_items = rating_matrix.columns[sorted_indices][:5]\n",
    "\n",
    "print(f\"\\nTop 5 recommendations for user {user_id}:\")\n",
    "for item in top_items:\n",
    "    print(f\"Book ID: {item}\")\n"
   ]
  }
 ],
 "metadata": {
  "kernelspec": {
   "display_name": "base",
   "language": "python",
   "name": "python3"
  },
  "language_info": {
   "codemirror_mode": {
    "name": "ipython",
    "version": 3
   },
   "file_extension": ".py",
   "mimetype": "text/x-python",
   "name": "python",
   "nbconvert_exporter": "python",
   "pygments_lexer": "ipython3",
   "version": "3.12.4"
  }
 },
 "nbformat": 4,
 "nbformat_minor": 5
}
